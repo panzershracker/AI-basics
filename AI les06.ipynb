{
 "cells": [
  {
   "cell_type": "code",
   "execution_count": 1,
   "metadata": {},
   "outputs": [],
   "source": [
    "from math import factorial as fact"
   ]
  },
  {
   "cell_type": "markdown",
   "metadata": {},
   "source": [
    "#### 1. Вероятность того, что стрелок попадет в мишень, выстрелив один раз, равна 0.8. Стрелок выстрелил 100 раз. Найдите вероятность того, что стрелок попадет в цель ровно 85 раз.\n",
    "\n"
   ]
  },
  {
   "cell_type": "code",
   "execution_count": 2,
   "metadata": {},
   "outputs": [
    {
     "name": "stdout",
     "output_type": "stream",
     "text": [
      "Вероятность попадания стрелка в цель ровно 85 раз (по формуле Бернулли) = 0.04806\n"
     ]
    }
   ],
   "source": [
    "# Распределение по Бернулли\n",
    "\n",
    "n = 100\n",
    "\n",
    "p = 0.8\n",
    "\n",
    "q = 1 - p\n",
    "\n",
    "k = 85\n",
    "\n",
    "C_nk = fact(n) / (fact(k) * fact(n - k))\n",
    "\n",
    "P_85 = C_nk * p**k * q**(n - k)\n",
    "\n",
    "print(f'Вероятность попадания стрелка в цель ровно 85 раз (по формуле Бернулли) = {round(P_85, 5)}')"
   ]
  },
  {
   "cell_type": "markdown",
   "metadata": {},
   "source": [
    "#### 2. Вероятность того, что лампочка перегорит в течение первого дня эксплуатации, равна 0.0004. В жилом комплексе после ремонта в один день включили 5000 новых лампочек. Какова вероятность, что ни одна из них не перегорит в первый день? Какова вероятность, что перегорят ровно две?"
   ]
  },
  {
   "cell_type": "code",
   "execution_count": 3,
   "metadata": {},
   "outputs": [],
   "source": [
    "# Т.к. кол-во испытаний велико, и вероятность наступления события мала - считаем по Пуассону\n",
    "\n",
    "def poisson(p, n, m):\n",
    "  \n",
    "  lambd = n*p\n",
    "  e = 2.72\n",
    "  \n",
    "  return ((lambd**m) / fact(m)) * (e**-lambd)"
   ]
  },
  {
   "cell_type": "code",
   "execution_count": 4,
   "metadata": {},
   "outputs": [
    {
     "name": "stdout",
     "output_type": "stream",
     "text": [
      "Вероятность что в первый день не перегорит ни одной лампочки = 0.13516\n",
      "Вероятность что в первый день перегорит две лампочки = 0.27033\n"
     ]
    }
   ],
   "source": [
    "print(f'Вероятность что в первый день не перегорит ни одной лампочки = {round(poisson(0.0004, 5000, 0), 5)}')\n",
    "print(f'Вероятность что в первый день перегорит две лампочки = {round(poisson(0.0004, 5000, 2), 5)}')"
   ]
  },
  {
   "cell_type": "markdown",
   "metadata": {},
   "source": [
    "#### 3. Монету подбросили 144 раза. Какова вероятность, что орел выпадет ровно 70 раз?"
   ]
  },
  {
   "cell_type": "code",
   "execution_count": 5,
   "metadata": {},
   "outputs": [
    {
     "name": "stdout",
     "output_type": "stream",
     "text": [
      "Вероятность, что монета, подброшенная 144 раза выпадет олом ровно 70 раз = 0.06281\n"
     ]
    }
   ],
   "source": [
    "# Считаем по бернулли\n",
    "\n",
    "p = 0.5\n",
    "\n",
    "n = 144\n",
    "\n",
    "q = 1-p\n",
    "\n",
    "k = 70\n",
    "\n",
    "C_nk = fact(n) / (fact(k) * fact(n - k))\n",
    "\n",
    "C_70 = C_nk * p**k * q**(n - k)\n",
    "\n",
    "print(f'Вероятность, что монета, подброшенная 144 раза выпадет олом ровно 70 раз = {round(C_70, 5)}')"
   ]
  },
  {
   "cell_type": "markdown",
   "metadata": {},
   "source": [
    "#### 4. В первом ящике находится 10 мячей, из которых 7 - белые. Во втором ящике - 11 мячей, из которых 9 белых. Из каждого ящика вытаскивают случайным образом по два мяча. \n",
    "    а) Какова вероятность того, что все мячи белые? "
   ]
  },
  {
   "cell_type": "code",
   "execution_count": 6,
   "metadata": {},
   "outputs": [],
   "source": [
    "def comb(n, k):\n",
    "  return fact(n) / (fact(k) * fact(n-k))"
   ]
  },
  {
   "cell_type": "code",
   "execution_count": 7,
   "metadata": {},
   "outputs": [
    {
     "data": {
      "text/plain": [
       "0.4666666666666667"
      ]
     },
     "execution_count": 7,
     "metadata": {},
     "output_type": "execute_result"
    }
   ],
   "source": [
    "# Вероятность вытащить 2 белых мяча из 1ой корзины \n",
    "\n",
    "C1_w1 = comb(7, 2)\n",
    "\n",
    "C1_w2 = comb(10, 2)\n",
    "\n",
    "C1_allwhite = C1_w1 / C1_w2\n",
    "\n",
    "C1_allwhite"
   ]
  },
  {
   "cell_type": "code",
   "execution_count": 8,
   "metadata": {},
   "outputs": [
    {
     "data": {
      "text/plain": [
       "0.6545454545454545"
      ]
     },
     "execution_count": 8,
     "metadata": {},
     "output_type": "execute_result"
    }
   ],
   "source": [
    "# Вероятность вытащить 2 белых мяча из 2ой корзины\n",
    "\n",
    "C2_w1 = comb(9, 2)\n",
    "\n",
    "C2_w2 = comb(11, 2)\n",
    "\n",
    "C2_allwhite = C2_w1 / C2_w2\n",
    "\n",
    "C2_allwhite"
   ]
  },
  {
   "cell_type": "code",
   "execution_count": 9,
   "metadata": {},
   "outputs": [
    {
     "name": "stdout",
     "output_type": "stream",
     "text": [
      "Вероятность вытащить всего 4 белых мяча из обеих корзин = 0.30545\n"
     ]
    }
   ],
   "source": [
    "print(f'Вероятность вытащить всего 4 белых мяча из обеих корзин = {round((C2_allwhite * C1_allwhite), 5)}')"
   ]
  },
  {
   "cell_type": "markdown",
   "metadata": {},
   "source": [
    "    б) Какова вероятность того, что ровно два мяча белые? "
   ]
  },
  {
   "cell_type": "code",
   "execution_count": null,
   "metadata": {},
   "outputs": [],
   "source": []
  },
  {
   "cell_type": "markdown",
   "metadata": {},
   "source": [
    "    в) Какова вероятность того, что хотя бы один мяч белый?"
   ]
  },
  {
   "cell_type": "code",
   "execution_count": null,
   "metadata": {},
   "outputs": [],
   "source": []
  },
  {
   "cell_type": "markdown",
   "metadata": {},
   "source": [
    "#### 4. Решение методом монте карло."
   ]
  },
  {
   "cell_type": "code",
   "execution_count": 13,
   "metadata": {},
   "outputs": [],
   "source": [
    "import numpy as np"
   ]
  },
  {
   "cell_type": "code",
   "execution_count": 11,
   "metadata": {},
   "outputs": [
    {
     "name": "stdout",
     "output_type": "stream",
     "text": [
      "0.30398\n"
     ]
    }
   ],
   "source": [
    "a = np.array([1,1,1,1,1,1,1,0,0,0])\n",
    "b = np.array([1,1,1,1,1,1,1,1,1,0,0])\n",
    "\n",
    "n = 100000\n",
    "p1, p2, p3 = 0, 0, 0\n",
    "\n",
    "for i in range(n):\n",
    "    np.random.shuffle(a)\n",
    "    np.random.shuffle(b)\n",
    "    \n",
    "    if sum(a[:2]) == 2 and sum(b[:2]) == 2:\n",
    "        p1 += 1\n",
    "     \n",
    "print(p1/n)"
   ]
  },
  {
   "cell_type": "markdown",
   "metadata": {},
   "source": [
    "# !Доделать для двух остальных вероятностей!"
   ]
  },
  {
   "cell_type": "code",
   "execution_count": 12,
   "metadata": {},
   "outputs": [
    {
     "ename": "SyntaxError",
     "evalue": "invalid syntax (<ipython-input-12-a38cbed4d02a>, line 3)",
     "output_type": "error",
     "traceback": [
      "\u001b[0;36m  File \u001b[0;32m\"<ipython-input-12-a38cbed4d02a>\"\u001b[0;36m, line \u001b[0;32m3\u001b[0m\n\u001b[0;31m    Пример метода Монте-Карло (задание 4 из ДЗ-2 - Какова вероятность того, что ровно два мяча белые?):\u001b[0m\n\u001b[0m                ^\u001b[0m\n\u001b[0;31mSyntaxError\u001b[0m\u001b[0;31m:\u001b[0m invalid syntax\n"
     ]
    }
   ],
   "source": [
    "# Метод Ширкина\n",
    "\n",
    "Пример метода Монте-Карло (задание 4 из ДЗ-2 - Какова вероятность того, что ровно два мяча белые?):\n",
    "\n",
    "import numpy as np\n",
    "\n",
    "a = np.array([1, 1, 1, 1, 1, 1, 1, 0, 0, 0])\n",
    "b = np.array([1, 1, 1, 1, 1, 1, 1, 1, 1, 0, 0])\n",
    "\n",
    "n = 100000\n",
    "m1, m2, m3 = 0, 0, 0\n",
    "\n",
    "for i in range(n):\n",
    "    np.random.shuffle(a)\n",
    "    np.random.shuffle(b)\n",
    "    if np.sum(a[:2]) == 2 and np.sum(b[:2]) == 0:\n",
    "        m1 += 1.0\n",
    "    elif np.sum(a[:2]) == 0 and np.sum(b[:2]) == 2:\n",
    "        m2 += 1.0\n",
    "    elif np.sum(a[:2]) == 1 and np.sum(b[:2]) == 1:\n",
    "        m3 += 1.0\n",
    "        \n",
    "# print(m1/n, m2/n, m3/n)\n",
    "# print((m1+m2+m3)/n)"
   ]
  }
 ],
 "metadata": {
  "kernelspec": {
   "display_name": "Python 3",
   "language": "python",
   "name": "python3"
  },
  "language_info": {
   "codemirror_mode": {
    "name": "ipython",
    "version": 3
   },
   "file_extension": ".py",
   "mimetype": "text/x-python",
   "name": "python",
   "nbconvert_exporter": "python",
   "pygments_lexer": "ipython3",
   "version": "3.7.3"
  }
 },
 "nbformat": 4,
 "nbformat_minor": 2
}
