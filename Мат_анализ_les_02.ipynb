{
  "nbformat": 4,
  "nbformat_minor": 0,
  "metadata": {
    "colab": {
      "name": "Мат анализ les 02",
      "version": "0.3.2",
      "provenance": [],
      "collapsed_sections": [],
      "include_colab_link": true
    },
    "kernelspec": {
      "name": "python3",
      "display_name": "Python 3"
    }
  },
  "cells": [
    {
      "cell_type": "markdown",
      "metadata": {
        "id": "view-in-github",
        "colab_type": "text"
      },
      "source": [
        "<a href=\"https://colab.research.google.com/github/panzershracker/AI-basics/blob/master/%D0%9C%D0%B0%D1%82_%D0%B0%D0%BD%D0%B0%D0%BB%D0%B8%D0%B7_les_02.ipynb\" target=\"_parent\"><img src=\"https://colab.research.google.com/assets/colab-badge.svg\" alt=\"Open In Colab\"/></a>"
      ]
    },
    {
      "cell_type": "code",
      "metadata": {
        "id": "W4N2b0eTPKR7",
        "colab_type": "code",
        "colab": {}
      },
      "source": [
        "import numpy as np\n",
        "import pandas as pd\n"
      ],
      "execution_count": 0,
      "outputs": []
    },
    {
      "cell_type": "markdown",
      "metadata": {
        "id": "K28_-CPLzbe2",
        "colab_type": "text"
      },
      "source": [
        "***Тема 1 “Функция. Предел функции”***\n",
        "\n",
        "  **1. Как относятся друг к другу множество и последовательность? (в ответе использовать слова типа: часть, целое, общее, частное, родитель, дочерний субъект и т.д.)**\n"
      ]
    },
    {
      "cell_type": "markdown",
      "metadata": {
        "id": "VgJmcb30rZE2",
        "colab_type": "text"
      },
      "source": [
        "Последовательность - это часть множества. Бесконечная выборка на упорядоченном множестве нат. чисел, где каждому элементу соответствует номер (индекс)."
      ]
    },
    {
      "cell_type": "markdown",
      "metadata": {
        "id": "gjFu6dFqzBn0",
        "colab_type": "text"
      },
      "source": [
        "![alt text](https://drive.google.com/uc?id=18ZnGo9u7i4XVNR-R5ngPCd2gRg4LXJ9P)"
      ]
    },
    {
      "cell_type": "markdown",
      "metadata": {
        "id": "g8FdV3J9rcEn",
        "colab_type": "text"
      },
      "source": [
        "**2. a) Прочитать высказывания математической логики**\n",
        "\n",
        "\n",
        "1) Сигнум от у = 1 для каждого у из множества (0:1).\n",
        "\n",
        "2) Существуют натуральные x,y,z для которых любой n - натуральное число больше двух, и x ** n = y ** n + z ** n.\n",
        "\n",
        "3) Для любого рационального х существует рациональное множество Х так, что Х больше х.\n",
        "\n",
        "4) Для любого комплексного х не существует комплексного у, так как x > y или x < y.\n",
        "\n",
        "5) Существует погрешность больше нуля для любого у из множества (0: пи/2), где sin y < sin(y + погрешность)\n",
        "\n",
        "6) Существует погрешность больше нуля для любого у из множества (0: пи), где cos y > cos(y + погрешность)\n",
        "\n",
        "7) Существует х, которой не является ни натуральным,ни целым, ни рациональным,\n",
        "ни вещественным, ни комплексным.\n"
      ]
    },
    {
      "cell_type": "markdown",
      "metadata": {
        "id": "QkfUOVYsrtmH",
        "colab_type": "text"
      },
      "source": [
        "**б)  построить их отрицания**"
      ]
    },
    {
      "cell_type": "markdown",
      "metadata": {
        "id": "PI4u9E4-q1mL",
        "colab_type": "text"
      },
      "source": [
        "![alt text](https://drive.google.com/uc?id=1Qo-BjqozlP0YZU7aLILKXCPSVeVBh-Ap)\n",
        "---\n",
        "\n",
        "\n",
        "\n",
        "---\n",
        "\n",
        "\n",
        "\n",
        "---\n",
        "\n"
      ]
    },
    {
      "cell_type": "markdown",
      "metadata": {
        "id": "-IckLyokr1YI",
        "colab_type": "text"
      },
      "source": [
        "**в)  установить истинность (пытался сделать это логически).**\n",
        "\n",
        "\n",
        "1) Верно. кусочная ф-ция сигнум на отрезке 0:1 имеет значение 1\n",
        "\n",
        "2) Высказывание может быть верно, при условии, что x = y + z и y и z не равны нулю.\n",
        "\n",
        "3) Верно. Множество больше чем его отдельный элемент.\n",
        "\n",
        "4) Ложь. Такое число существует, если х и у равны.\n",
        "\n",
        "5) Ложь. у = pi/2 будет максимумом, поэтому не любой sin y < sin(y + e)\n",
        "\n",
        "6) Верно. На отрезке 0:pi ф-ция убывает, поэтому любой добавленный коэф. даст результат меньший чем cos y.\n",
        "\n",
        "7) Верно. Такие числа существуют - гиперкомплексные."
      ]
    },
    {
      "cell_type": "markdown",
      "metadata": {
        "id": "144-oIV4zokG",
        "colab_type": "text"
      },
      "source": [
        "**Тема 2 “Множество”**\n",
        "\n",
        "  **1. Даны три множества a,b и с. Необходимо выполнить все изученные виды бинарных операций над всеми комбинациями множеств.**"
      ]
    },
    {
      "cell_type": "code",
      "metadata": {
        "id": "6cO9Zu8_z29P",
        "colab_type": "code",
        "colab": {}
      },
      "source": [
        "a = set(np.random.randint(1, 20) for i in range(10))\n",
        "b = set(np.random.randint(1, 20) for i in range(10))\n",
        "c = set(np.random.randint(1, 20) for i in range(10))"
      ],
      "execution_count": 0,
      "outputs": []
    },
    {
      "cell_type": "code",
      "metadata": {
        "id": "RKM1KTxw4R5K",
        "colab_type": "code",
        "colab": {
          "base_uri": "https://localhost:8080/",
          "height": 68
        },
        "outputId": "176f32c9-10e5-4df2-9c71-cc13c42a22c2"
      },
      "source": [
        "a, b, c"
      ],
      "execution_count": 59,
      "outputs": [
        {
          "output_type": "execute_result",
          "data": {
            "text/plain": [
              "({4, 5, 6, 11, 12, 13, 17, 18},\n",
              " {1, 4, 10, 11, 15, 16, 17, 18},\n",
              " {1, 3, 4, 6, 9, 10, 13, 16})"
            ]
          },
          "metadata": {
            "tags": []
          },
          "execution_count": 59
        }
      ]
    },
    {
      "cell_type": "code",
      "metadata": {
        "id": "noHT0kzP46a3",
        "colab_type": "code",
        "colab": {
          "base_uri": "https://localhost:8080/",
          "height": 34
        },
        "outputId": "ecd3d602-1101-4499-93f2-9bdfc5bb2751"
      },
      "source": [
        "# Пересечение (так же a.intersection(b))\n",
        "\n",
        "a & b & c"
      ],
      "execution_count": 60,
      "outputs": [
        {
          "output_type": "execute_result",
          "data": {
            "text/plain": [
              "{4}"
            ]
          },
          "metadata": {
            "tags": []
          },
          "execution_count": 60
        }
      ]
    },
    {
      "cell_type": "code",
      "metadata": {
        "id": "v-TPOb2D5lAb",
        "colab_type": "code",
        "colab": {
          "base_uri": "https://localhost:8080/",
          "height": 34
        },
        "outputId": "dc52bf33-1ff7-40f2-f0cb-1990e114f427"
      },
      "source": [
        "# Объединение (a.union(b))\n",
        "\n",
        "a | b | c"
      ],
      "execution_count": 61,
      "outputs": [
        {
          "output_type": "execute_result",
          "data": {
            "text/plain": [
              "{1, 3, 4, 5, 6, 9, 10, 11, 12, 13, 15, 16, 17, 18}"
            ]
          },
          "metadata": {
            "tags": []
          },
          "execution_count": 61
        }
      ]
    },
    {
      "cell_type": "code",
      "metadata": {
        "id": "pPCTutA-5vIc",
        "colab_type": "code",
        "colab": {
          "base_uri": "https://localhost:8080/",
          "height": 34
        },
        "outputId": "31107401-40ac-41e2-c90e-6aff71177a83"
      },
      "source": [
        "# Разность (a. difference(b))\n",
        "\n",
        "a - b, a - c, b - a, b - c"
      ],
      "execution_count": 63,
      "outputs": [
        {
          "output_type": "execute_result",
          "data": {
            "text/plain": [
              "({5, 6, 12, 13}, {5, 11, 12, 17, 18}, {1, 10, 15, 16}, {11, 15, 17, 18})"
            ]
          },
          "metadata": {
            "tags": []
          },
          "execution_count": 63
        }
      ]
    },
    {
      "cell_type": "code",
      "metadata": {
        "id": "UlG4StTd6e3A",
        "colab_type": "code",
        "colab": {
          "base_uri": "https://localhost:8080/",
          "height": 34
        },
        "outputId": "b37b1eb4-db7e-4fe0-ce99-0ba897023a57"
      },
      "source": [
        "#  Симметрическая разность (a.symmetric_difference(b))\n",
        "\n",
        "a ^ b, a ^ c"
      ],
      "execution_count": 64,
      "outputs": [
        {
          "output_type": "execute_result",
          "data": {
            "text/plain": [
              "({1, 5, 6, 10, 12, 13, 15, 16}, {1, 3, 5, 9, 10, 11, 12, 16, 17, 18})"
            ]
          },
          "metadata": {
            "tags": []
          },
          "execution_count": 64
        }
      ]
    },
    {
      "cell_type": "markdown",
      "metadata": {
        "id": "09vHtLVwz3ZB",
        "colab_type": "text"
      },
      "source": [
        "**Тема 3 “Последовательность”**\n",
        "\n",
        "**1. Даны 4 последовательности. Необходимо:**\n",
        "\n",
        "![alt text](https://drive.google.com/uc?id=1xkGKQumboH7oxDZ9P8Ml0Vejjdz_cw7R)"
      ]
    },
    {
      "cell_type": "markdown",
      "metadata": {
        "id": "xuBVrRpZ04di",
        "colab_type": "text"
      },
      "source": [
        "**а) исследовать их на монотонность;**"
      ]
    },
    {
      "cell_type": "code",
      "metadata": {
        "id": "lmHhDHWc0aK3",
        "colab_type": "code",
        "colab": {}
      },
      "source": [
        ""
      ],
      "execution_count": 0,
      "outputs": []
    },
    {
      "cell_type": "markdown",
      "metadata": {
        "id": "EsfAJXY40ZoY",
        "colab_type": "text"
      },
      "source": [
        "**б) исследовать на ограниченность;**"
      ]
    },
    {
      "cell_type": "code",
      "metadata": {
        "id": "eJ_kNuG-0a5n",
        "colab_type": "code",
        "colab": {}
      },
      "source": [
        ""
      ],
      "execution_count": 0,
      "outputs": []
    },
    {
      "cell_type": "markdown",
      "metadata": {
        "id": "kQ9wsPlv0gl9",
        "colab_type": "text"
      },
      "source": [
        "**в) найти пятый по счету член.**"
      ]
    },
    {
      "cell_type": "code",
      "metadata": {
        "id": "qri5lpSB0mRV",
        "colab_type": "code",
        "colab": {}
      },
      "source": [
        ""
      ],
      "execution_count": 0,
      "outputs": []
    }
  ]
}